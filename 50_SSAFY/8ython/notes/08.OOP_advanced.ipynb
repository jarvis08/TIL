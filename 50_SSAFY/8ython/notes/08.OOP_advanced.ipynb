{
 "cells": [
  {
   "cell_type": "markdown",
   "metadata": {},
   "source": [
    "# OOP advanced"
   ]
  },
  {
   "cell_type": "markdown",
   "metadata": {},
   "source": [
    "## 클래스 변수 / 인스턴스 변수\n",
    "\n",
    "### 클래스 변수\n",
    "* 클래스의 속성입니다.\n",
    "* 클래스 선언 블록 최상단에 위치합니다.\n",
    "* `Class.class_variable` 과 같이 접근/할당합니다.\n",
    "    ```python\n",
    "    class TestClass:\n",
    "        class_variable = '클래스변수'\n",
    "        ...\n",
    "        \n",
    "    TestClass.class_variable  # '클래스변수'\n",
    "    TestClass.class_variable = 'class variable'\n",
    "    TestClass.class_variable  # 'class variable'\n",
    "    \n",
    "    tc = TestClass()\n",
    "    tc.class_variable  # 인스턴스 => 클래스 => 전역 순서로 네임스페이스를 탐색하기 때문에, 접근하게 됩니다.\n",
    "    ```\n",
    "    \n",
    "### 인스턴스 변수\n",
    "* 인스턴스의 속성입니다.\n",
    "* 메서드 정의에서 `self.instance_variable` 로 접근/할당합니다.\n",
    "* 인스턴스가 생성된 이후 `instance.instance_variable` 로 접근/할당합니다.\n",
    "    ```python\n",
    "    class TestClass:\n",
    "        def __init__(self, arg1, arg2):\n",
    "            self.instance_var1 = arg1\n",
    "            self.instance_var2 = arg2\n",
    "        \n",
    "        def status(self):\n",
    "            return self.instance_var1, self.instance_var2   \n",
    "        \n",
    "    tc = TestClass(1, 2)\n",
    "    tc.instance_var1  # 1\n",
    "    tc.instance_var2  # 2\n",
    "    tc.status()  # (1, 2)\n",
    "    ```"
   ]
  },
  {
   "cell_type": "code",
   "execution_count": null,
   "metadata": {},
   "outputs": [],
   "source": [
    "# 확인해 봅시다."
   ]
  },
  {
   "cell_type": "code",
   "execution_count": 26,
   "metadata": {},
   "outputs": [
    {
     "name": "stdout",
     "output_type": "stream",
     "text": [
      "class variable\n"
     ]
    }
   ],
   "source": [
    "class TestClass:\n",
    "    class_variable = '클래스변수'\n",
    "    ...\n",
    "    \n",
    "TestClass.class_variable  # '클래스변수'\n",
    "TestClass.class_variable = 'class variable'\n",
    "print(TestClass.class_variable)  # 'class variable'"
   ]
  },
  {
   "cell_type": "code",
   "execution_count": 20,
   "metadata": {},
   "outputs": [],
   "source": [
    "# 클래스 변수에 접근/재할당해 봅시다."
   ]
  },
  {
   "cell_type": "code",
   "execution_count": 21,
   "metadata": {},
   "outputs": [
    {
     "name": "stdout",
     "output_type": "stream",
     "text": [
      "ClaaaaSS variable\n"
     ]
    }
   ],
   "source": [
    "TestClass.class_variable = 'ClaaaaSS variable'\n",
    "print(TestClass.class_variable)"
   ]
  },
  {
   "cell_type": "code",
   "execution_count": 22,
   "metadata": {},
   "outputs": [],
   "source": [
    "# 인스턴스를 생성하고 확인해 봅시다."
   ]
  },
  {
   "cell_type": "code",
   "execution_count": 23,
   "metadata": {},
   "outputs": [
    {
     "name": "stdout",
     "output_type": "stream",
     "text": [
      "ClaaaaSS variable\n"
     ]
    }
   ],
   "source": [
    "tc = TestClass()\n",
    "print(tc.class_variable)"
   ]
  },
  {
   "cell_type": "code",
   "execution_count": 24,
   "metadata": {},
   "outputs": [],
   "source": [
    "# 인스턴스 변수를 재할당해 봅시다."
   ]
  },
  {
   "cell_type": "code",
   "execution_count": 25,
   "metadata": {},
   "outputs": [
    {
     "name": "stdout",
     "output_type": "stream",
     "text": [
      "인스턴스가 변경한 인스턴스의 class_variable\n",
      "ClaaaaSS variable\n"
     ]
    }
   ],
   "source": [
    "tc.class_variable = '인스턴스가 변경한 인스턴스의 class_variable'\n",
    "print(tc.class_variable)\n",
    "print(TestClass.class_variable)"
   ]
  },
  {
   "cell_type": "markdown",
   "metadata": {},
   "source": [
    "## 인스턴스 메서드 / 클래스 메서드 / 스태틱(정적) 메서드 \n",
    "\n",
    "### 인스턴스 메서드\n",
    "* 인스턴스가 사용할 메서드 입니다.\n",
    "* **정의 위에 어떠한 데코레이터도 없으면, 자동으로 인스턴스 메서드가 됩니다.**\n",
    "* **첫 번째 인자로 `self` 를 받도록 정의합니다. 이 때, 자동으로 인스턴스 객체가 `self` 가 됩니다.**\n",
    "    ```python\n",
    "    class MyClass:\n",
    "        def instance_method_name(self, arg1, arg2, ...):\n",
    "            ...\n",
    "    \n",
    "    my_instance = MyClass()\n",
    "    my_instance.instance_method_name(.., ..)  # 자동으로 첫 번째 인자로 인스턴스(my_instance)가 들어갑니다.\n",
    "    ```\n",
    "    \n",
    "### 클래스 메서드\n",
    "* 클래스가 사용할 메서드 입니다.\n",
    "* **정의 위에 `@classmethod` 데코레이터를 사용합니다.**\n",
    "* **첫 번째 인자로 `cls` 를 받도록 정의합니다. 이 때, 자동으로 클래스 객체가 `cls` 가 됩니다.**\n",
    "    ```python\n",
    "    class MyClass:\n",
    "        @classmethod\n",
    "        def class_method_name(cls, arg1, arg2, ...):\n",
    "            ...\n",
    "            \n",
    "    MyClass.class_method_name(.., ..)  # 자동으로 첫 번째 인자로 클래스(MyClass)가 들어갑니다.\n",
    "    ```\n",
    "\n",
    "### 스태틱(정적) 메서드\n",
    "* 클래스가 사용할 메서드 입니다.\n",
    "* **정의 위에 `@staticmethod` 데코레이터를 사용합니다.**\n",
    "* **인자 정의는 자유롭게 합니다. 어떠한 인자도 자동으로 넘어가지 않습니다.**\n",
    "    ```python\n",
    "    class MyClass:\n",
    "        @staticmethod\n",
    "        def static_method_name(arg1, arg2, ...):\n",
    "            ...\n",
    "    \n",
    "    MyClass.static_method_name(.., ..)  # 아무일도 자동으로 일어나지 않습니다.\n",
    "    ```"
   ]
  },
  {
   "cell_type": "code",
   "execution_count": 22,
   "metadata": {
    "scrolled": true
   },
   "outputs": [
    {
     "name": "stdout",
     "output_type": "stream",
     "text": [
      "<__main__.MyClass object at 0x04A3BA10>\n",
      "<class '__main__.MyClass'>\n",
      "<class '__main__.MyClass'>\n",
      "<function MyClass.static_method at 0x05729468>\n",
      "<function MyClass.static_method at 0x05729468>\n",
      "<__main__.MyClass object at 0x04A3BA10>\n"
     ]
    }
   ],
   "source": [
    "class MyClass:\n",
    "    @classmethod\n",
    "    def class_method(cls):\n",
    "        return cls\n",
    "    \n",
    "    def instance_method(self):\n",
    "        return self\n",
    "    @staticmethod\n",
    "    def static_method():\n",
    "        return 'static method'\n",
    "\n",
    "mc = MyClass()\n",
    "print(mc.instance_method())\n",
    "# instance가 class method를 호출해도 class가 호출한 것으로 처리\n",
    "print(MyClass.class_method())\n",
    "print(mc.class_method())\n",
    "# class가 호출하는 것은 맞지만, 자기 자신인 cls를 인수하지 않는다.\n",
    "# class_method는 자기 자신의 attribute를 처리 할 때 사용\n",
    "# static_method는 class와 관련 없는 단순 계산 등에 자주 사용\n",
    "print(MyClass.static_method)\n",
    "print(mc.static_method)\n",
    "# class가 instance method를 호출 가능하지만, 사용하지 않는다.\n",
    "# 대장 내시경 하는데 입으로 관을 넣은 느낌\n",
    "print(MyClass.instance_method(mc))"
   ]
  },
  {
   "cell_type": "code",
   "execution_count": 1,
   "metadata": {},
   "outputs": [],
   "source": [
    "# 인스턴스 입장에서 확인해 봅시다.\n",
    "import turtle\n",
    "for i in range(4):\n",
    "    # turtle.forward(distance)\n",
    "    turtle.forward(100)\n",
    "    # turtle.right(angle)\n",
    "    turtle.right(90)"
   ]
  },
  {
   "cell_type": "code",
   "execution_count": null,
   "metadata": {},
   "outputs": [],
   "source": [
    "# 인스턴스는 인스턴스 메서드에 접근 가능합니다."
   ]
  },
  {
   "cell_type": "code",
   "execution_count": null,
   "metadata": {},
   "outputs": [],
   "source": [
    "# 인스턴스는 클래스 메서드에 접근 가능합니다."
   ]
  },
  {
   "cell_type": "code",
   "execution_count": null,
   "metadata": {},
   "outputs": [],
   "source": [
    "# 인스턴스는 스태틱 메서드에 접근 가능합니다."
   ]
  },
  {
   "cell_type": "markdown",
   "metadata": {},
   "source": [
    "#### 정리\n",
    "- 인스턴스는, 3가지 메서드 모두에 접근할 수 있습니다.\n",
    "- 하지만 인스턴스에서 클래스메서드와 스태틱메서드는 호출하지 않아야 합니다. (가능하다 != 사용한다) \n",
    "- 인스턴스가 할 행동은 모두 인스턴스 메서드로 한정 지어서 설계합니다."
   ]
  },
  {
   "cell_type": "markdown",
   "metadata": {},
   "source": [
    "---"
   ]
  },
  {
   "cell_type": "code",
   "execution_count": null,
   "metadata": {},
   "outputs": [],
   "source": [
    "# 클래스 입장에서 확인해 봅시다."
   ]
  },
  {
   "cell_type": "code",
   "execution_count": null,
   "metadata": {},
   "outputs": [],
   "source": []
  },
  {
   "cell_type": "code",
   "execution_count": null,
   "metadata": {},
   "outputs": [],
   "source": []
  },
  {
   "cell_type": "code",
   "execution_count": null,
   "metadata": {},
   "outputs": [],
   "source": []
  },
  {
   "cell_type": "markdown",
   "metadata": {},
   "source": [
    "#### 정리\n",
    "- 클래스는, 3가지 메서드 모두에 접근할 수 있습니다.\n",
    "- 하지만 클래스에서 인스턴스메서드는 호출하지 않습니다. (가능하다 != 사용한다)\n",
    "- 클래스가 할 행동은 다음 원칙에 따라 설계합니다.\n",
    "    - 클래스 자체(`cls`)와 그 속성에 접근할 필요가 있다면 클래스메서드로 정의합니다.\n",
    "    - 클래스와 클래스 속성에 접근할 필요가 없다면 스태틱메서드로 정의합니다."
   ]
  },
  {
   "cell_type": "markdown",
   "metadata": {},
   "source": [
    "---"
   ]
  },
  {
   "cell_type": "code",
   "execution_count": null,
   "metadata": {
    "scrolled": true
   },
   "outputs": [],
   "source": [
    "# Person 클래스가 인사할 수 있는지 확인해보겠습니다."
   ]
  },
  {
   "cell_type": "code",
   "execution_count": 9,
   "metadata": {
    "scrolled": true
   },
   "outputs": [
    {
     "name": "stdout",
     "output_type": "stream",
     "text": [
      "안녕하세연? 저는 조동빈입니당\n",
      "안녕하세연? 저는 갓현지입니당\n",
      "안녕하세연? 저는 아베입니당\n",
      "die\n",
      "현재 인구는 2명 입니다.\n"
     ]
    }
   ],
   "source": [
    "class Person:\n",
    "    population = 0\n",
    "    \n",
    "    def __init__(self, name):\n",
    "        self.name = name\n",
    "        Person.population += 1\n",
    "        \n",
    "    def greeting(self):\n",
    "        print(f'안녕하세연? 저는 {self.name}입니당')\n",
    "\n",
    "    @classmethod\n",
    "    def show_population(cls):\n",
    "        print(f'현재 인구는 {Person.population}명 입니다.')\n",
    "    \n",
    "    def __del__(self):\n",
    "        print('die')\n",
    "        Person.population -= 1\n",
    "\n",
    "whdbin = Person('조동빈')\n",
    "guswl = Person('갓현지')\n",
    "abe = Person('아베')\n",
    "whdbin.greeting()\n",
    "guswl.greeting()\n",
    "abe.greeting()\n",
    "del abe\n",
    "Person.show_population()"
   ]
  },
  {
   "cell_type": "markdown",
   "metadata": {},
   "source": [
    "### 실습 : Puppy class\n",
    "> 1. 클래스 변수 num_of_dogs 통해 개가 생성될 때마다 증가시키도록 하겠습니다. \n",
    "> 2. 개들은 각자의 이름과 나이를 가지고 있습니다. \n",
    "> 3. 그리고 bark() 메서드를 통해 짖을 수 있습니다. "
   ]
  },
  {
   "cell_type": "code",
   "execution_count": 27,
   "metadata": {},
   "outputs": [],
   "source": [
    "class Puppy:\n",
    "    num_dogs = 0\n",
    "    \n",
    "    def __init__(self, name, age):\n",
    "        self.name = name\n",
    "        self.age = age\n",
    "        Puppy.num_dogs += 1\n",
    "        print(f'강아지 {self.name}을(를) 분양받았습니다.')\n",
    "        \n",
    "    def bark(self):\n",
    "        print(f'{self.name}, 개가 짖습니다.')\n",
    "    \n",
    "    @classmethod\n",
    "    def dogs_num(cls):\n",
    "        print(f'가족이 총 {Puppy.num_dogs} 마리입니다.')\n",
    "        \n",
    "    @staticmethod\n",
    "    def info():\n",
    "        print('Puppy Class는 강아지를 만들어주는 Class 입니다.')"
   ]
  },
  {
   "cell_type": "code",
   "execution_count": 28,
   "metadata": {},
   "outputs": [],
   "source": [
    "# 각각 이름과 나이가 다른 인스턴스를 3개 만들어봅시다."
   ]
  },
  {
   "cell_type": "code",
   "execution_count": 31,
   "metadata": {},
   "outputs": [
    {
     "name": "stdout",
     "output_type": "stream",
     "text": [
      "강아지 Ggamy을(를) 분양받았습니다.\n",
      "강아지 Romeo을(를) 분양받았습니다.\n",
      "강아지 Janggoon을(를) 분양받았습니다.\n",
      "Ggamy, 개가 짖습니다.\n",
      "Romeo, 개가 짖습니다.\n",
      "Janggoon, 개가 짖습니다.\n",
      "가족이 총 9 마리입니다.\n",
      "Puppy Class는 강아지를 만들어주는 Class 입니다.\n",
      "Puppy Class는 강아지를 만들어주는 Class 입니다.\n"
     ]
    }
   ],
   "source": [
    "ggamy = Puppy('Ggamy', '?')\n",
    "Romeo = Puppy('Romeo', 15)\n",
    "janggoon = Puppy('Janggoon', '?')\n",
    "ggamy.bark()\n",
    "Romeo.bark()\n",
    "janggoon.bark()\n",
    "Puppy.dogs_num()\n",
    "Puppy.info()\n",
    "Romeo.info()"
   ]
  },
  {
   "cell_type": "markdown",
   "metadata": {},
   "source": [
    "* 클래스메서드는 다음과 같이 정의됩니다.\n",
    "\n",
    "```python\n",
    "\n",
    "@classmethod\n",
    "def methodname(cls):\n",
    "    codeblock\n",
    "```"
   ]
  },
  {
   "cell_type": "code",
   "execution_count": null,
   "metadata": {},
   "outputs": [],
   "source": [
    "# Doggy 클래스의 속성에 접근하는 클래스메서드를 생성해 보겠습니다."
   ]
  },
  {
   "cell_type": "code",
   "execution_count": null,
   "metadata": {},
   "outputs": [],
   "source": []
  },
  {
   "cell_type": "code",
   "execution_count": null,
   "metadata": {},
   "outputs": [],
   "source": [
    "# Dog 3 마리를 만들어보고,"
   ]
  },
  {
   "cell_type": "code",
   "execution_count": null,
   "metadata": {},
   "outputs": [],
   "source": []
  },
  {
   "cell_type": "code",
   "execution_count": null,
   "metadata": {},
   "outputs": [],
   "source": [
    "# 함수를 호출해봅시다."
   ]
  },
  {
   "cell_type": "code",
   "execution_count": null,
   "metadata": {},
   "outputs": [],
   "source": []
  },
  {
   "cell_type": "code",
   "execution_count": null,
   "metadata": {},
   "outputs": [],
   "source": []
  },
  {
   "cell_type": "markdown",
   "metadata": {},
   "source": [
    "* 스태틱메서드는 다음과 같이 정의됩니다.\n",
    "\n",
    "```python\n",
    "\n",
    "@staticmethod\n",
    "def methodname():\n",
    "    codeblock\n",
    "```"
   ]
  },
  {
   "cell_type": "code",
   "execution_count": null,
   "metadata": {},
   "outputs": [],
   "source": [
    "# Dog 에 어떠한 속성에도 접근하지 않는 스태틱메서드를 만들어보겠습니다."
   ]
  },
  {
   "cell_type": "code",
   "execution_count": null,
   "metadata": {},
   "outputs": [],
   "source": []
  },
  {
   "cell_type": "code",
   "execution_count": null,
   "metadata": {},
   "outputs": [],
   "source": [
    "# Dog 3 마리를 만들어보고,"
   ]
  },
  {
   "cell_type": "code",
   "execution_count": null,
   "metadata": {},
   "outputs": [],
   "source": []
  },
  {
   "cell_type": "code",
   "execution_count": null,
   "metadata": {
    "scrolled": true
   },
   "outputs": [],
   "source": [
    "# 함수를 호출해봅시다."
   ]
  },
  {
   "cell_type": "code",
   "execution_count": null,
   "metadata": {
    "scrolled": true
   },
   "outputs": [],
   "source": []
  },
  {
   "cell_type": "markdown",
   "metadata": {},
   "source": [
    "## 실습문제 - 스태틱(정적) 메소드\n",
    "\n",
    "> 계산기 class인 `Calculator`를 만들어봅시다.\n",
    "\n",
    "* 다음과 같이 정적 메소드를 구성한다. \n",
    "* 모든 정적 메서드는, 두 수를 받아서 각각의 연산을 한 결과를 리턴한다.\n",
    "* `a` 연산자 `b` 의 순서로 연산한다. (`a - b`, `a / b`)\n",
    "    1. `add(a, b)` : 덧셈\n",
    "    2. `sub(a, b)` : 뺄셈 \n",
    "    3. `mul(a, b)` : 곱셈\n",
    "    4. `div(a, b)` : 나눗셈"
   ]
  },
  {
   "cell_type": "code",
   "execution_count": null,
   "metadata": {},
   "outputs": [],
   "source": [
    "# 아래에 코드를 작성해주세요."
   ]
  },
  {
   "cell_type": "code",
   "execution_count": 32,
   "metadata": {},
   "outputs": [],
   "source": [
    "class Calculator:\n",
    "    @staticmethod\n",
    "    def add(a,b):\n",
    "        return a+b\n",
    "    @staticmethod\n",
    "    def sub(a,b):\n",
    "        return a-b\n",
    "    @staticmethod\n",
    "    def mul(a,b):\n",
    "        return a*b\n",
    "    @staticmethod\n",
    "    def div(a,b):\n",
    "        if b:\n",
    "            return a/b\n",
    "        return '0으로 나눌 수 없음'"
   ]
  },
  {
   "cell_type": "code",
   "execution_count": 33,
   "metadata": {},
   "outputs": [],
   "source": [
    "# 정적메소드를 호출해보세요."
   ]
  },
  {
   "cell_type": "code",
   "execution_count": 34,
   "metadata": {},
   "outputs": [
    {
     "data": {
      "text/plain": [
       "3"
      ]
     },
     "execution_count": 34,
     "metadata": {},
     "output_type": "execute_result"
    }
   ],
   "source": [
    "cal_1 = Calculator()\n",
    "cal_1.add(3, 0)"
   ]
  },
  {
   "cell_type": "markdown",
   "metadata": {},
   "source": [
    "## 연산자 오버라이딩(중복 정의, 덮어 쓰기)\n",
    "\n",
    "* 파이썬에 기본적으로 정의된 연산자를 직접적으로 정의하여 활용할 수 있습니다. \n",
    "\n",
    "* 몇가지만 소개하고 활용해봅시다.\n",
    "\n",
    "```\n",
    "+  __add__   \n",
    "-  __sub__\n",
    "*  __mul__\n",
    "<  __lt__\n",
    "<= __le__\n",
    "== __eq__\n",
    "!= __ne__\n",
    ">= __ge__\n",
    ">  __gt__\n",
    "```"
   ]
  },
  {
   "cell_type": "code",
   "execution_count": null,
   "metadata": {},
   "outputs": [],
   "source": [
    "# 사람과 사람을 같은지 비교하면, 이는 나이가 같은지 비교한 결과를 반환하도록 만들어봅시다."
   ]
  },
  {
   "cell_type": "code",
   "execution_count": 40,
   "metadata": {},
   "outputs": [],
   "source": [
    "class Person:\n",
    "    population = 0\n",
    "    \n",
    "    def __init__(self, name, age):\n",
    "        self.name = name\n",
    "        self.age = age\n",
    "        Person.population += 1\n",
    "        \n",
    "    def greeting(self):\n",
    "        print(f'{self.name} 입니다. 반갑습니다!')\n",
    "        \n",
    "    def __repr__(self):\n",
    "         return f'< \"name:\" {self.name}, \"age\": {self.age} >'\n",
    "    \n",
    "    def __gt__(self, other):\n",
    "        return self.age >= other.age"
   ]
  },
  {
   "cell_type": "code",
   "execution_count": 41,
   "metadata": {},
   "outputs": [],
   "source": [
    "# 연산자를 호출해 봅시다."
   ]
  },
  {
   "cell_type": "code",
   "execution_count": 46,
   "metadata": {},
   "outputs": [
    {
     "name": "stdout",
     "output_type": "stream",
     "text": [
      "john 입니다. 반갑습니다!\n",
      "ashley 입니다. 반갑습니다!\n",
      "False\n",
      "False\n",
      "[< \"name:\" eric, \"age\": 30 >, < \"name:\" ashley, \"age\": 32 >, < \"name:\" john, \"age\": 34 >]\n"
     ]
    }
   ],
   "source": [
    "john = Person('john', 34)\n",
    "ashley = Person('ashley', 32)\n",
    "eric = Person('eric', 30)\n",
    "john.greeting()\n",
    "ashley.greeting()\n",
    "\n",
    "people = [john, ashley, eric]\n",
    "print(ashley.__gt__(john))\n",
    "print(ashley > john)\n",
    "print(sorted(people))"
   ]
  },
  {
   "cell_type": "markdown",
   "metadata": {},
   "source": [
    "# 상속 \n",
    "\n",
    "## 기초\n",
    "\n",
    "* 클래스에서 가장 큰 특징은 '상속' 기능을 가지고 있다는 것이다. \n",
    "\n",
    "* 부모 클래스의 모든 속성이 자식 클래스에게 상속 되므로 코드재사용성이 높아집니다.\n",
    "\n",
    "```python\n",
    "class DerivedClassName(BaseClassName):\n",
    "    code block\n",
    "```"
   ]
  },
  {
   "cell_type": "code",
   "execution_count": null,
   "metadata": {},
   "outputs": [],
   "source": [
    "# 인사만 할 수 있는 간단한 사람 클래스를 만들어봅시다."
   ]
  },
  {
   "cell_type": "code",
   "execution_count": 91,
   "metadata": {},
   "outputs": [],
   "source": [
    "class Person():\n",
    "    population = 0\n",
    "    \n",
    "    def __init__(self, name, age):\n",
    "        self.name = name\n",
    "        self.age = age\n",
    "        Person.population += 1\n",
    "\n",
    "    def greeting(self):\n",
    "        print(f'{self.name} 입니다. 반갑습니다!')\n",
    "        \n",
    "    def __repr__(self):\n",
    "         return f'< \"name:\" {self.name}, \"age\": {self.age} >'\n",
    "    \n",
    "    def __gt__(self, other):\n",
    "        return self.age >= other.age\n",
    "    \n",
    "    def __eq__(self, other):\n",
    "        return self.age == other.age\n",
    "    \n",
    "    def __ge__(self, other):\n",
    "        return self.age >= other.age"
   ]
  },
  {
   "cell_type": "code",
   "execution_count": 92,
   "metadata": {},
   "outputs": [],
   "source": [
    "# 사람 클래스를 상속받아 학생 클래스를 만들어봅시다."
   ]
  },
  {
   "cell_type": "code",
   "execution_count": 93,
   "metadata": {},
   "outputs": [],
   "source": [
    "class Student(Person):\n",
    "#     # 1. 재정의 하는 방법\n",
    "#     def __init__(self, name, age, student_id):\n",
    "#         self.name = name\n",
    "#         self.age = age\n",
    "#         self.student_id = student_id\n",
    "\n",
    "    # 2. Parent.__init__(기존 인자) 활용하기\n",
    "    # == super().__init__(기존 인자)\n",
    "    def __init__(self, name, age, student_id):\n",
    "        # Person.__init__(name, age)\n",
    "        super().__init__(name, age)\n",
    "        self.student_id = student_id\n",
    "        \n",
    "    def study(self):\n",
    "        print('와 공부 너무 재밌다.')\n",
    "        \n",
    "    # parent class의 greeting method overriding\n",
    "    def greeting(self):\n",
    "        print(f'안녕하세요, {self.student_id}학번 {self.name}입니다.')\n",
    "\n",
    "    # 학번의 경우 낮을 수록 '큰, 높은' 사람이기 때문에\n",
    "    # 부등호의 방향을 거꾸로 하여 overriding\n",
    "    def __gt__(self, other):\n",
    "        return self.student_id < other.student_id\n",
    "    \n",
    "    def __eq__(self, other):\n",
    "        return self.student_id == other.student_id\n",
    "    \n",
    "    def __ge__(self, other):\n",
    "        return self.student_id <= other.student_id"
   ]
  },
  {
   "cell_type": "code",
   "execution_count": 94,
   "metadata": {},
   "outputs": [],
   "source": [
    "# 학생을 만들어봅시다."
   ]
  },
  {
   "cell_type": "code",
   "execution_count": 90,
   "metadata": {},
   "outputs": [
    {
     "name": "stdout",
     "output_type": "stream",
     "text": [
      "와 공부 너무 재밌다.\n",
      "안녕하세요, 12학번 dongbin입니다.\n"
     ]
    },
    {
     "data": {
      "text/plain": [
       "True"
      ]
     },
     "execution_count": 90,
     "metadata": {},
     "output_type": "execute_result"
    }
   ],
   "source": [
    "stu_1 = Student('dongbin', 28, 12)\n",
    "stu_1.study()\n",
    "stu_1.greeting()\n",
    "\n",
    "stu_2 = Person('john', 28)\n",
    "# stu_2.study() 에러\n",
    "\n",
    "stu_3 = Student('hyunji', 25, 14)\n",
    "# `__gt__` 연산자 overriding 이용\n",
    "stu_1 > stu_3"
   ]
  },
  {
   "cell_type": "code",
   "execution_count": null,
   "metadata": {},
   "outputs": [],
   "source": [
    "# 부모 클래스에 정의를 했음에도 메소드를 호출 할 수 있습니다."
   ]
  },
  {
   "cell_type": "code",
   "execution_count": null,
   "metadata": {},
   "outputs": [],
   "source": []
  },
  {
   "cell_type": "markdown",
   "metadata": {},
   "source": [
    "* 이처럼 상속은 공통된 속성이나 메소드를 부모 클래스에 정의하고, 이를 상속받아 다양한 형태의 사람들을 만들 수 있습니다."
   ]
  },
  {
   "cell_type": "code",
   "execution_count": null,
   "metadata": {},
   "outputs": [],
   "source": [
    "# 진짜 상속관계인지 확인해봅시다."
   ]
  },
  {
   "cell_type": "code",
   "execution_count": null,
   "metadata": {},
   "outputs": [],
   "source": []
  },
  {
   "cell_type": "code",
   "execution_count": null,
   "metadata": {},
   "outputs": [],
   "source": []
  },
  {
   "cell_type": "markdown",
   "metadata": {},
   "source": [
    "## super()\n",
    "\n",
    "* 자식 클래스에 메서드를 추가 구현할 수 있습니다.\n",
    "\n",
    "* 부모 클래스의 내용을 사용하고자 할 때, `super()`를 사용할 수 있습니다."
   ]
  },
  {
   "cell_type": "code",
   "execution_count": null,
   "metadata": {},
   "outputs": [],
   "source": []
  },
  {
   "cell_type": "markdown",
   "metadata": {},
   "source": [
    "* 위의 코드를 보면, 상속을 했음에도 불구하고 동일한 코드가 반복됩니다. "
   ]
  },
  {
   "cell_type": "code",
   "execution_count": null,
   "metadata": {},
   "outputs": [],
   "source": [
    "# 이를 수정해봅시다."
   ]
  },
  {
   "cell_type": "code",
   "execution_count": null,
   "metadata": {},
   "outputs": [],
   "source": []
  },
  {
   "cell_type": "markdown",
   "metadata": {},
   "source": [
    "## 메서드 오버라이딩\n",
    "\n",
    "* 메서드를 재정의할 수도 있습니다."
   ]
  },
  {
   "cell_type": "code",
   "execution_count": null,
   "metadata": {},
   "outputs": [],
   "source": [
    "# 군인은 다른 인사를 합니다."
   ]
  },
  {
   "cell_type": "code",
   "execution_count": null,
   "metadata": {},
   "outputs": [],
   "source": [
    "# 군인은 다른 인사를 합니다."
   ]
  },
  {
   "cell_type": "markdown",
   "metadata": {},
   "source": [
    "## 상속관계에서의 이름공간\n",
    "\n",
    "* 기존에 인스턴스 -> 클래스순으로 이름 공간을 탐색해나가는 과정에서 상속관계에 있으면 아래와 같이 확장됩니다.\n",
    "\n",
    "* instance => class => global\n",
    "* 인스턴스 -> 자식 클래스 -> 부모 클래스 -> 전역"
   ]
  },
  {
   "cell_type": "markdown",
   "metadata": {},
   "source": [
    "## 실습1 \n",
    "\n",
    "> Teacher 클래스를 만들어보고 Student와 Teacher 클래스에 각각 다른 행동의 메소드들을 하나씩 추가해봅시다."
   ]
  },
  {
   "cell_type": "code",
   "execution_count": 96,
   "metadata": {},
   "outputs": [
    {
     "name": "stdout",
     "output_type": "stream",
     "text": [
      "안녕 얘듀라~\n"
     ]
    }
   ],
   "source": [
    "# 아래에 코드를 작성해주세요.\n",
    "class Teacher(Person):\n",
    "    def __init__(self, name, age, subject):\n",
    "        super().__init__(name, age)\n",
    "        self.subject = subject\n",
    "    def greeting(self):\n",
    "        print('안녕 얘듀라~')\n",
    "goddongju = Teacher('GodDongJu',34, 'Python')\n",
    "goddongju.greeting()"
   ]
  },
  {
   "cell_type": "markdown",
   "metadata": {},
   "source": [
    "## 실습2\n",
    "\n",
    "> 사실 사람은 포유류입니다. \n",
    ">\n",
    "> Animal Class를 만들고, Person클래스가 상속받도록 구성해봅시다.\n",
    ">\n",
    "> 변수나, 메소드는 자유롭게 만들어봅시다."
   ]
  },
  {
   "cell_type": "code",
   "execution_count": 100,
   "metadata": {},
   "outputs": [
    {
     "name": "stdout",
     "output_type": "stream",
     "text": [
      "크아아아아앙\n",
      "안녕하세연?\n"
     ]
    }
   ],
   "source": [
    "# 아래에 코드를 작성해주세요.\n",
    "class Animal():\n",
    "    def __init__(self, name, num_hands):\n",
    "        self.name = name\n",
    "        self.num_hands = num_hands\n",
    "    \n",
    "    def greeting(self):\n",
    "        print('크아아아아앙')\n",
    "        \n",
    "class Person(Animal):\n",
    "    def __init__(self, name, num_hands, sports):\n",
    "        super().__init__(name, num_hands)\n",
    "        self.sports = sports\n",
    "    \n",
    "    def greeting(self):\n",
    "        print('안녕하세연?')\n",
    "\n",
    "byungchul = Animal('buyngchul', 0)\n",
    "dongbin = Person('dongbin', 2, 'football')\n",
    "byungchul.greeting()\n",
    "dongbin.greeting()"
   ]
  },
  {
   "cell_type": "markdown",
   "metadata": {},
   "source": [
    "## 다중 상속\n",
    "두개 이상의 클래스를 상속받는 경우, 다중상속이 됩니다."
   ]
  },
  {
   "cell_type": "code",
   "execution_count": null,
   "metadata": {},
   "outputs": [],
   "source": [
    "# Person 클래스를 정의합니다."
   ]
  },
  {
   "cell_type": "code",
   "execution_count": 1,
   "metadata": {},
   "outputs": [
    {
     "name": "stdout",
     "output_type": "stream",
     "text": [
      "된다!\n"
     ]
    }
   ],
   "source": [
    "class Person:\n",
    "    def __repr__(self):\n",
    "        return '된다!'\n",
    "p1 = Person()\n",
    "print(p1)"
   ]
  },
  {
   "cell_type": "code",
   "execution_count": null,
   "metadata": {},
   "outputs": [],
   "source": [
    "# Mom 클래스를 정의합니다."
   ]
  },
  {
   "cell_type": "code",
   "execution_count": null,
   "metadata": {},
   "outputs": [],
   "source": []
  },
  {
   "cell_type": "code",
   "execution_count": null,
   "metadata": {},
   "outputs": [],
   "source": [
    "# Dad 클래스를 정의합니다."
   ]
  },
  {
   "cell_type": "code",
   "execution_count": null,
   "metadata": {},
   "outputs": [],
   "source": []
  },
  {
   "cell_type": "code",
   "execution_count": null,
   "metadata": {},
   "outputs": [],
   "source": [
    "# Child 클래스를 정의합니다."
   ]
  },
  {
   "cell_type": "code",
   "execution_count": null,
   "metadata": {},
   "outputs": [],
   "source": []
  },
  {
   "cell_type": "code",
   "execution_count": null,
   "metadata": {},
   "outputs": [],
   "source": [
    "# Child 의 인스턴스 객체를 확인합니다."
   ]
  },
  {
   "cell_type": "code",
   "execution_count": null,
   "metadata": {},
   "outputs": [],
   "source": []
  },
  {
   "cell_type": "code",
   "execution_count": null,
   "metadata": {},
   "outputs": [],
   "source": [
    "# cry 메서드를 실행합니다."
   ]
  },
  {
   "cell_type": "code",
   "execution_count": null,
   "metadata": {},
   "outputs": [],
   "source": []
  },
  {
   "cell_type": "code",
   "execution_count": null,
   "metadata": {},
   "outputs": [],
   "source": [
    "# swim 메서드를 실행합니다."
   ]
  },
  {
   "cell_type": "code",
   "execution_count": null,
   "metadata": {},
   "outputs": [],
   "source": []
  },
  {
   "cell_type": "code",
   "execution_count": null,
   "metadata": {},
   "outputs": [],
   "source": [
    "# walk 메서드를 실행합니다."
   ]
  },
  {
   "cell_type": "code",
   "execution_count": null,
   "metadata": {},
   "outputs": [],
   "source": []
  },
  {
   "cell_type": "code",
   "execution_count": null,
   "metadata": {},
   "outputs": [],
   "source": [
    "# gene 은 누구의 속성을 참조할까요?"
   ]
  },
  {
   "cell_type": "code",
   "execution_count": null,
   "metadata": {},
   "outputs": [],
   "source": []
  },
  {
   "cell_type": "code",
   "execution_count": null,
   "metadata": {},
   "outputs": [],
   "source": [
    "# 상속 순서를 바꿔봅시다."
   ]
  },
  {
   "cell_type": "code",
   "execution_count": null,
   "metadata": {},
   "outputs": [],
   "source": []
  },
  {
   "cell_type": "code",
   "execution_count": null,
   "metadata": {},
   "outputs": [],
   "source": [
    "# Child 의 인스턴스 객체를 확인합니다."
   ]
  },
  {
   "cell_type": "code",
   "execution_count": null,
   "metadata": {},
   "outputs": [],
   "source": []
  },
  {
   "cell_type": "code",
   "execution_count": null,
   "metadata": {},
   "outputs": [],
   "source": [
    "# cry메서드를 실행합니다."
   ]
  },
  {
   "cell_type": "code",
   "execution_count": null,
   "metadata": {},
   "outputs": [],
   "source": []
  },
  {
   "cell_type": "code",
   "execution_count": null,
   "metadata": {},
   "outputs": [],
   "source": [
    "# swim 메서드를 실행합니다."
   ]
  },
  {
   "cell_type": "code",
   "execution_count": null,
   "metadata": {},
   "outputs": [],
   "source": []
  },
  {
   "cell_type": "code",
   "execution_count": null,
   "metadata": {},
   "outputs": [],
   "source": [
    "# walk 메서드를 실행합니다."
   ]
  },
  {
   "cell_type": "code",
   "execution_count": null,
   "metadata": {},
   "outputs": [],
   "source": []
  },
  {
   "cell_type": "code",
   "execution_count": null,
   "metadata": {},
   "outputs": [],
   "source": [
    "# gene 은 누구의 속성을 참조할까요?"
   ]
  },
  {
   "cell_type": "code",
   "execution_count": null,
   "metadata": {},
   "outputs": [],
   "source": []
  },
  {
   "cell_type": "markdown",
   "metadata": {},
   "source": [
    "## 포켓몬 구현하기\n",
    "\n",
    "> 포켓몬을 상속하는 이상해씨, 파이리, 꼬부기를 구현해 봅시다. 게임을 만든다면 아래와 같이 먼저 기획을 하고 코드로 구현하게 됩니다.\n",
    "우선 아래와 같이 구현해 보고, 추가로 본인이 원하는 대로 구현 및 수정해 봅시다.\n",
    "\n",
    "모든 포켓몬은 다음과 같은 속성을 갖습니다.\n",
    "* `name`: 이름\n",
    "* `level`: 레벨\n",
    "    * 레벨은 시작할 때 모두 5 입니다.\n",
    "* `hp`: 체력\n",
    "    * 체력은 `level` * 20 입니다.\n",
    "* `exp`: 경험치\n",
    "    * 상대방을 쓰러뜨리면 상대방 `level` * 15 를 획득합니다.\n",
    "    * 경험치는 `level` * 100 이 되면, 레벨이 하나 올라가고 0부터 추가 됩니다. \n",
    "\n",
    "이후 이상해씨, 파이리, 꼬부기는 포켓몬을 상속하여 자유롭게 구현해 봅시다.\n",
    "\n",
    "추가적으로 \n",
    "\n",
    "* 포켓몬 => 물포켓몬 => 꼬부기 \n",
    "* 포켓몬 => 물포켓몬 => 잉어킹\n",
    "* 포켓몬 => 비행포켓몬, 불포켓몬 => 파이어\n",
    "\n",
    "와 같이 다양한 추가 상속관계도 구현해 봅시다."
   ]
  },
  {
   "cell_type": "code",
   "execution_count": 157,
   "metadata": {},
   "outputs": [
    {
     "name": "stdout",
     "output_type": "stream",
     "text": [
      "\n",
      "파이리\t:: 꾸에에에에엑!\n",
      "\n",
      "Attack\t:: 꼬부기, 파이리에게 물대포 발사!\n",
      "꼬부기\t:: 어푸어푸\n",
      "Command\t:: 파이리(은)는 꼬부기의 물대포에 50 데미지를 입었다.\n",
      "Command\t:: 불 속성인 파이리(은)는 추가 데미지를 입었다!\n",
      "\n",
      "Attack\t:: 파이리, 꼬부기에게 몸통박치기!\n",
      "파이리\t:: 쿵쾅쿵쾅\n",
      "Command\t:: 꼬부기은 파이리의 몸통 박치기에 의해 30 데미지를 입었다.\n",
      "\n",
      "Command\t:: 꼬부기가 회복약을 이용해 hp를 20 회복했다.\n",
      "\n",
      "Attack\t:: 파이리, 꼬부기에게 파이어볼!\n",
      "파이리\t:: 화륵화륵\n",
      "Command\t:: 꼬부기(은)는 파이리의 파이어볼에 의해 15 데미지를 입었다.\n",
      "Command\t:: 물 속성인 꼬부기에게는 데미지가 감소되었다!\n",
      "\n",
      "Attack\t:: 꼬부기, 파이리에게 물대포 발사!\n",
      "꼬부기\t:: 어푸어푸\n",
      "Command\t:: 파이리(은)는 꼬부기의 물대포에 50 데미지를 입었다.\n",
      "Command\t:: 불 속성인 파이리(은)는 추가 데미지를 입었다!\n",
      "\n",
      "Command\t:: 파이리가 회복약을 이용해 hp를 20 회복했다.\n",
      "\n",
      "꼬부기\t:: 꾸에에에에엑!\n",
      "\n",
      "파이리\t:: 꾸에에에에엑!\n",
      "\n",
      "Command\t:: 꼬부기가 회복약을 이용해 hp를 20 회복했다.\n",
      "\n",
      "Attack\t:: 파이리, 꼬부기에게 파이어볼!\n",
      "파이리\t:: 화륵화륵\n",
      "Command\t:: 꼬부기(은)는 파이리의 파이어볼에 의해 15 데미지를 입었다.\n",
      "Command\t:: 물 속성인 꼬부기에게는 데미지가 감소되었다!\n",
      "\n",
      "Attack\t:: 꼬부기, 파이리에게 물대포 발사!\n",
      "꼬부기\t:: 어푸어푸\n",
      "Command\t:: 파이리(은)는 꼬부기의 물대포에 50 데미지를 입었다.\n",
      "Command\t:: 불 속성인 파이리(은)는 추가 데미지를 입었다!\n",
      "\n",
      "Victory\t:: 야생의 꼬부기가 승리했다!\n",
      "-------------------------------------------------------전투 종료\n",
      "\n",
      "Attack\t:: 파이리, 피카츄에게 몸통박치기!\n",
      "파이리\t:: 쿵쾅쿵쾅\n",
      "Command\t:: 피카츄가 파이리의 몸통 박치기를 회피했다!\n",
      "\n",
      "Attack\t:: 피카츄, 파이리에게 백만 볼트!\n",
      "피카츄\t:: 지직지직\n",
      "Command\t:: 파이리(은)는 피카츄의 백만 볼트에 15 데미지를 입었다.\n",
      "Command\t:: 불 속성인 파이리에게는 데미지가 감소되었다!\n",
      "\n",
      "파이리\t:: 꾸에에에에엑!\n",
      "\n",
      "피카츄\t:: 꾸에에에에엑!\n",
      "\n",
      "Command\t:: 파이리가 회복약을 이용해 hp를 20 회복했다.\n",
      "\n",
      "Command\t:: 피카츄가 회복약을 이용해 hp를 20 회복했다.\n",
      "\n",
      "Attack\t:: 파이리, 피카츄에게 몸통박치기!\n",
      "파이리\t:: 쿵쾅쿵쾅\n",
      "Command\t:: 피카츄은 파이리의 몸통 박치기에 의해 30 데미지를 입었다.\n",
      "\n",
      "피카츄\t:: 꾸에에에에엑!\n",
      "\n",
      "Attack\t:: 파이리, 피카츄에게 몸통박치기!\n",
      "파이리\t:: 쿵쾅쿵쾅\n",
      "Command\t:: 피카츄은 파이리의 몸통 박치기에 의해 30 데미지를 입었다.\n",
      "\n",
      "Attack\t:: 피카츄, 파이리에게 백만 볼트!\n",
      "피카츄\t:: 지직지직\n",
      "Command\t:: 파이리(은)는 피카츄의 백만 볼트에 15 데미지를 입었다.\n",
      "Command\t:: 불 속성인 파이리에게는 데미지가 감소되었다!\n",
      "\n",
      "Attack\t:: 파이리, 피카츄에게 파이어볼!\n",
      "파이리\t:: 화륵화륵\n",
      "Command\t:: 피카츄(은)는 파이리의 파이어볼에 의해 50 데미지를 입었다.\n",
      "Command\t:: 번개 속성인 피카츄(은)는 추가 데미지를 입었다!\n",
      "\n",
      "피카츄\t:: 꾸에에에에엑!\n",
      "\n",
      "Attack\t:: 파이리, 피카츄에게 몸통박치기!\n",
      "파이리\t:: 쿵쾅쿵쾅\n",
      "Command\t:: 피카츄은 파이리의 몸통 박치기에 의해 30 데미지를 입었다.\n",
      "\n",
      "Command\t:: 피카츄가 회복약을 이용해 hp를 20 회복했다.\n",
      "\n",
      "Attack\t:: 파이리, 피카츄에게 몸통박치기!\n",
      "파이리\t:: 쿵쾅쿵쾅\n",
      "Command\t:: 피카츄은 파이리의 몸통 박치기에 의해 30 데미지를 입었다.\n",
      "\n",
      "Victory\t:: 야생의 파이리가 승리했다!\n",
      "-------------------------------------------------------전투 종료\n",
      "\n",
      "Attack\t:: 피카츄, 꼬부기에게 몸통박치기!\n",
      "피카츄\t:: 쿵쾅쿵쾅\n",
      "Command\t:: 꼬부기은 피카츄의 몸통 박치기에 의해 30 데미지를 입었다.\n",
      "\n",
      "Attack\t:: 꼬부기, 피카츄에게 물대포 발사!\n",
      "꼬부기\t:: 어푸어푸\n",
      "Command\t:: 피카츄(은)는 꼬부기의 물대포에 15 데미지를 입었다.\n",
      "Command\t:: 번개 속성인 피카츄에게는 데미지가 감소되었다!\n",
      "\n",
      "Command\t:: 피카츄가 회복약을 이용해 hp를 20 회복했다.\n",
      "\n",
      "Attack\t:: 꼬부기, 피카츄에게 물대포 발사!\n",
      "꼬부기\t:: 어푸어푸\n",
      "Command\t:: 피카츄(은)는 꼬부기의 물대포에 15 데미지를 입었다.\n",
      "Command\t:: 번개 속성인 피카츄에게는 데미지가 감소되었다!\n",
      "\n",
      "Command\t:: 피카츄가 회복약을 이용해 hp를 20 회복했다.\n",
      "\n",
      "Attack\t:: 꼬부기, 피카츄에게 몸통박치기!\n",
      "꼬부기\t:: 쿵쾅쿵쾅\n",
      "Command\t:: 피카츄은 꼬부기의 몸통 박치기에 의해 30 데미지를 입었다.\n",
      "\n",
      "Attack\t:: 피카츄, 꼬부기에게 백만 볼트!\n",
      "피카츄\t:: 지직지직\n",
      "Command\t:: 꼬부기(은)는 피카츄의 백만 볼트에 50 데미지를 입었다.\n",
      "Command\t:: 물 속성인 꼬부기(은)는 추가 데미지를 입었다!\n",
      "\n",
      "꼬부기\t:: 꾸에에에에엑!\n",
      "\n",
      "Attack\t:: 피카츄, 꼬부기에게 몸통박치기!\n",
      "피카츄\t:: 쿵쾅쿵쾅\n",
      "Command\t:: 꼬부기은 피카츄의 몸통 박치기에 의해 30 데미지를 입었다.\n",
      "\n",
      "Attack\t:: 꼬부기, 피카츄에게 물대포 발사!\n",
      "꼬부기\t:: 어푸어푸\n",
      "Command\t:: 피카츄(은)는 꼬부기의 물대포에 15 데미지를 입었다.\n",
      "Command\t:: 번개 속성인 피카츄에게는 데미지가 감소되었다!\n",
      "\n",
      "Command\t:: 피카츄가 회복약을 이용해 hp를 20 회복했다.\n",
      "\n",
      "Attack\t:: 꼬부기, 피카츄에게 몸통박치기!\n",
      "꼬부기\t:: 쿵쾅쿵쾅\n",
      "Command\t:: 피카츄가 꼬부기의 몸통 박치기를 회피했다!\n",
      "\n",
      "Attack\t:: 피카츄, 꼬부기에게 백만 볼트!\n",
      "피카츄\t:: 지직지직\n",
      "Command\t:: 꼬부기(은)는 피카츄의 백만 볼트에 50 데미지를 입었다.\n",
      "Command\t:: 물 속성인 꼬부기(은)는 추가 데미지를 입었다!\n",
      "\n",
      "Victory\t:: 야생의 피카츄가 승리했다!\n",
      "-------------------------------------------------------전투 종료\n"
     ]
    }
   ],
   "source": [
    "import random\n",
    "\n",
    "class Pokemon:\n",
    "    name = ''\n",
    "    level = 5\n",
    "    hp = level * 20\n",
    "    exp = 0\n",
    "    \n",
    "    poke_type = ''\n",
    "    weak_type = ''\n",
    "    strong_type = ''\n",
    "    \n",
    "    def __init__(self, name):\n",
    "        self.name = name\n",
    "    \n",
    "    def body_striking(self, enemy):\n",
    "        print(f'\\nAttack\\t:: {self.name}, {enemy.name}에게 몸통박치기!')\n",
    "        print(f'{self.name}\\t:: 쿵쾅쿵쾅')\n",
    "        if enemy.hp <= 0:\n",
    "            print(f'{enemy.name}\\t:: 시체 매너좀.')\n",
    "            return None\n",
    "        if random.randint(0, 100) > 70:\n",
    "            print(f'Command\\t:: {enemy.name}가 {self.name}의 몸통 박치기를 회피했다!')\n",
    "        else:\n",
    "            damage = self.level * 6\n",
    "            print(f'Command\\t:: {enemy.name}은 {self.name}의 몸통 박치기에 의해 {damage} 데미지를 입었다.')\n",
    "            enemy.hp -= damage\n",
    "    \n",
    "    def medicine(self):\n",
    "        print(f'\\nCommand\\t:: {self.name}가 회복약을 이용해 hp를 20 회복했다.')\n",
    "    \n",
    "    def yell(self):\n",
    "        print(f'\\n{self.name}\\t:: 꾸에에에에엑!')\n",
    "        \n",
    "    def __str__(self):\n",
    "        return f'{self.name}\\t:: 속성[{self.poke_type}]\\t약점[{self.weak_type}]'\n",
    "\n",
    "class WaterPoke(Pokemon):\n",
    "    def __init__(self, name):\n",
    "        self.name = name\n",
    "        self.poke_type = '물'\n",
    "        self.weak_type = '번개'\n",
    "        self.strong_type = '불'\n",
    "    \n",
    "    def skill_1(self, enemy):\n",
    "        if enemy.hp <= 0:\n",
    "            print(f'{enemy.name}\\t:: 시체 매너좀.')\n",
    "            return None\n",
    "        print(f'\\nAttack\\t:: {self.name}, {enemy.name}에게 물대포 발사!')\n",
    "        print(f'{self.name}\\t:: 어푸어푸')\n",
    "        if self.poke_type == enemy.weak_type:\n",
    "            damage = self.level * 10\n",
    "            print(f'Command\\t:: {enemy.name}(은)는 {self.name}의 물대포에 {damage} 데미지를 입었다.')\n",
    "            print(f'Command\\t:: {enemy.poke_type} 속성인 {enemy.name}(은)는 추가 데미지를 입었다!')\n",
    "            enemy.hp -= damage\n",
    "        elif self.weak_type == enemy.poke_type:\n",
    "            damage = self.level * 3\n",
    "            enemy.hp -= damage\n",
    "            print(f'Command\\t:: {enemy.name}(은)는 {self.name}의 물대포에 {damage} 데미지를 입었다.')\n",
    "            print(f'Command\\t:: {enemy.poke_type} 속성인 {enemy.name}에게는 데미지가 감소되었다!')\n",
    "        else:\n",
    "            damage = self.level * 5\n",
    "            print(f'Command\\t:: {enemy.poke_type} 속성인 {enemy.name}(은)는 물대포에 {damage} 데미지를 입었다.')\n",
    "            enemy.hp -= damage\n",
    "            \n",
    "class FirePoke(Pokemon):\n",
    "    def __init__(self, name):\n",
    "        self.name = name\n",
    "        self.poke_type = '불'\n",
    "        self.weak_type = '물'\n",
    "        self.strong_type = '번개'\n",
    "    \n",
    "    def skill_1(self, enemy):\n",
    "        print(f'\\nAttack\\t:: {self.name}, {enemy.name}에게 파이어볼!')\n",
    "        print(f'{self.name}\\t:: 화륵화륵')\n",
    "        if enemy.hp <= 0:\n",
    "            print(f'{enemy.name}\\t:: 시체 매너좀.')\n",
    "            return None\n",
    "        if self.poke_type == enemy.weak_type:\n",
    "            damage = self.level * 10\n",
    "            enemy.hp -= damage\n",
    "            print(f'Command\\t:: {enemy.name}(은)는 {self.name}의 파이어볼에 의해 {damage} 데미지를 입었다.')\n",
    "            print(f'Command\\t:: {enemy.poke_type} 속성인 {enemy.name}(은)는 추가 데미지를 입었다!')\n",
    "        elif self.weak_type == enemy.poke_type:\n",
    "            damage = self.level * 3\n",
    "            enemy.hp -= damage\n",
    "            print(f'Command\\t:: {enemy.name}(은)는 {self.name}의 파이어볼에 의해 {damage} 데미지를 입었다.')\n",
    "            print(f'Command\\t:: {enemy.poke_type} 속성인 {enemy.name}에게는 데미지가 감소되었다!')\n",
    "        else:\n",
    "            damage = self.level * 5\n",
    "            enemy.hp -= damage\n",
    "            print(f'Command\\t:: {enemy.poke_type} 속성인 {enemy.name}(은)는 파이어볼에 {damage} 데미지를 입었다.')\n",
    "\n",
    "class ThunderPoke(Pokemon):\n",
    "    def __init__(self, name):\n",
    "        self.name = name\n",
    "        self.poke_type = '번개'\n",
    "        self.weak_type = '불'\n",
    "        self.strong_type = '물'\n",
    "    \n",
    "    def skill_1(self, enemy):\n",
    "        print(f'\\nAttack\\t:: {self.name}, {enemy.name}에게 백만 볼트!')\n",
    "        print(f'{self.name}\\t:: 지직지직')\n",
    "        if enemy.hp <= 0:\n",
    "            print(f'{enemy.name}\\t:: 시체 매너좀.')\n",
    "            return None\n",
    "        if self.poke_type == enemy.weak_type:\n",
    "            damage = self.level * 10\n",
    "            enemy.hp -= damage\n",
    "            print(f'Command\\t:: {enemy.name}(은)는 {self.name}의 백만 볼트에 {damage} 데미지를 입었다.')\n",
    "            print(f'Command\\t:: {enemy.poke_type} 속성인 {enemy.name}(은)는 추가 데미지를 입었다!')\n",
    "        elif self.weak_type == enemy.poke_type:\n",
    "            damage = self.level * 3\n",
    "            enemy.hp -= damage\n",
    "            print(f'Command\\t:: {enemy.name}(은)는 {self.name}의 백만 볼트에 {damage} 데미지를 입었다.')\n",
    "            print(f'Command\\t:: {enemy.poke_type} 속성인 {enemy.name}에게는 데미지가 감소되었다!')\n",
    "        else:\n",
    "            damage = self.level * 5\n",
    "            enemy.hp -= damage\n",
    "            print(f'Command\\t:: {enemy.poke_type} 속성인 {enemy.name}(은)는 백만 볼트에 {damage} 데미지를 입었다.')\n",
    "\n",
    "\n",
    "# 띠리리 매치 중 죽는놈 체크\n",
    "def hp_check(poke_1, poke_2):\n",
    "    if poke_2.hp <= 0:\n",
    "        print(f'\\nVictory\\t:: 야생의 {poke_1.name}가 승리했다!')\n",
    "        return True\n",
    "\n",
    "# 띠리리 매치 참가 전, 체력 동등하게 맞추기\n",
    "def set_ddiriry_hp(heal):\n",
    "    pika.hp = heal\n",
    "    pairy.hp = heal\n",
    "    kobuk.hp = heal\n",
    "    \n",
    "# 띠리리 띠리리 띠리리~\n",
    "def ddiriry_ddiriry_ddiririy(poke_1, poke_2):\n",
    "    \"\"\"\n",
    "    0 = 소리지르기\n",
    "    1 = 몸통 박치기\n",
    "    2 = 공격 스킬\n",
    "    3 = 회복약 마시기 스킬\"\"\"\n",
    "    dead = False\n",
    "    rand = random.choice([0, 1, 2, 3])\n",
    "    if rand == 0:\n",
    "        poke_1.yell()\n",
    "    elif rand == 1:\n",
    "        poke_1.body_striking(poke_2)\n",
    "    elif rand == 2:\n",
    "        poke_1.skill_1(poke_2)\n",
    "    else:\n",
    "        poke_1.medicine()\n",
    "\n",
    "    dead = hp_check(poke_1, poke_2)\n",
    "    if dead:\n",
    "        print('-------------------------------------------------------전투 종료')\n",
    "        return None\n",
    "    return ddiriry_ddiriry_ddiririy(poke_2, poke_1)\n",
    "\n",
    "\n",
    "pairy = FirePoke('파이리')\n",
    "kobuk = WaterPoke('꼬부기')\n",
    "pika = ThunderPoke('피카츄')\n",
    "\n",
    "# 1st match\n",
    "set_ddiriry_hp(150)\n",
    "ddiriry_ddiriry_ddiririy(pairy, kobuk)\n",
    "\n",
    "# 2nd match\n",
    "set_ddiriry_hp(150)\n",
    "ddiriry_ddiriry_ddiririy(pairy, pika)\n",
    "\n",
    "# 3rd match\n",
    "set_ddiriry_hp(150)\n",
    "ddiriry_ddiriry_ddiririy(pika, kobuk)   "
   ]
  },
  {
   "cell_type": "code",
   "execution_count": null,
   "metadata": {},
   "outputs": [],
   "source": []
  }
 ],
 "metadata": {
  "kernelspec": {
   "display_name": "Python 3",
   "language": "python",
   "name": "python3"
  },
  "language_info": {
   "codemirror_mode": {
    "name": "ipython",
    "version": 3
   },
   "file_extension": ".py",
   "mimetype": "text/x-python",
   "name": "python",
   "nbconvert_exporter": "python",
   "pygments_lexer": "ipython3",
   "version": "3.7.3"
  },
  "latex_envs": {
   "LaTeX_envs_menu_present": true,
   "autoclose": false,
   "autocomplete": true,
   "bibliofile": "biblio.bib",
   "cite_by": "apalike",
   "current_citInitial": 1,
   "eqLabelWithNumbers": true,
   "eqNumInitial": 1,
   "hotkeys": {
    "equation": "Ctrl-E",
    "itemize": "Ctrl-I"
   },
   "labels_anchors": false,
   "latex_user_defs": false,
   "report_style_numbering": false,
   "user_envs_cfg": false
  },
  "toc": {
   "base_numbering": 1,
   "nav_menu": {},
   "number_sections": true,
   "sideBar": true,
   "skip_h1_title": false,
   "title_cell": "Table of Contents",
   "title_sidebar": "Contents",
   "toc_cell": false,
   "toc_position": {},
   "toc_section_display": true,
   "toc_window_display": false
  }
 },
 "nbformat": 4,
 "nbformat_minor": 2
}
