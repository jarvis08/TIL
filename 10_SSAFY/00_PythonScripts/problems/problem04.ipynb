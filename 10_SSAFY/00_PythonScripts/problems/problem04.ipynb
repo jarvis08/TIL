{
 "cells": [
  {
   "cell_type": "markdown",
   "metadata": {},
   "source": [
    "# Iterable에 사용가능한 함수\n",
    "\n",
    "### `map`, `filter`, `zip` 이외의 함수들"
   ]
  },
  {
   "cell_type": "markdown",
   "metadata": {},
   "source": [
    "# `all()`\n",
    "\n",
    "> all은 인자로 받는 iterable(range, list)의 모든 요소가 참이거나 비어있으면 True를 반환합니다.\n",
    ">\n",
    "> 이와 같은 my_all(x)을 작성해보세요"
   ]
  },
  {
   "cell_type": "code",
   "execution_count": 1,
   "metadata": {},
   "outputs": [
    {
     "name": "stdout",
     "output_type": "stream",
     "text": [
      "True\n",
      "False\n"
     ]
    }
   ],
   "source": [
    "# 예제 입력 및 출력\n",
    "print(all([1, 2, 5, '6']))\n",
    "print(all([[], 2, 5, '6']))"
   ]
  },
  {
   "cell_type": "code",
   "execution_count": 3,
   "metadata": {},
   "outputs": [],
   "source": [
    "# 아래에 코드를 작성해주세요.\n",
    "def my_all(x):\n",
    "    for element in x:\n",
    "        # 하나라도 False면 의미X\n",
    "        if not element:\n",
    "            return False\n",
    "    return True"
   ]
  },
  {
   "cell_type": "code",
   "execution_count": 4,
   "metadata": {},
   "outputs": [
    {
     "name": "stdout",
     "output_type": "stream",
     "text": [
      "True\n",
      "False\n"
     ]
    }
   ],
   "source": [
    "# 예제 입력 및 출력\n",
    "print(my_all([1, 2, 5, '6']))\n",
    "print(my_all([[], 2, 5, '6']))"
   ]
  },
  {
   "cell_type": "markdown",
   "metadata": {},
   "source": [
    "# `any()`\n",
    "\n",
    "> any는 인자로 받는 iterable(range, list)의 요소 중 하나라도 참이면 True를 반환하고, 비어있으면 False를 반환합니다.\n",
    ">\n",
    "> 이와 같은 my_any(x)를 작성해보세요."
   ]
  },
  {
   "cell_type": "code",
   "execution_count": 7,
   "metadata": {},
   "outputs": [
    {
     "name": "stdout",
     "output_type": "stream",
     "text": [
      "True\n",
      "True\n",
      "False\n"
     ]
    }
   ],
   "source": [
    "# 예제 입력 및 출력\n",
    "print(any([1, 2, 5, '6']))\n",
    "print(any([[], 2, 5, '6']))\n",
    "print(any([0]))"
   ]
  },
  {
   "cell_type": "code",
   "execution_count": 8,
   "metadata": {},
   "outputs": [],
   "source": [
    "# 아래에 코드를 작성해주세요.\n",
    "def my_any(x):\n",
    "        for element in x:\n",
    "        # 하나라도 False면 의미X\n",
    "        if element:\n",
    "            return True\n",
    "    return False"
   ]
  },
  {
   "cell_type": "code",
   "execution_count": 9,
   "metadata": {},
   "outputs": [
    {
     "name": "stdout",
     "output_type": "stream",
     "text": [
      "True\n",
      "True\n",
      "False\n"
     ]
    }
   ],
   "source": [
    "# my_any 예제 입력 및 출력\n",
    "print(my_any([1, 2, 5, '6']))\n",
    "print(my_any([[], 2, 5, '6']))\n",
    "print(my_any([0]))"
   ]
  },
  {
   "cell_type": "markdown",
   "metadata": {},
   "source": [
    "# 연습문제\n",
    "\n",
    "container 활용 및 함수 관련 문제\n",
    "(**Comprehension 및 iterable 관련 함수들을 최대한 활용해보세요.**)"
   ]
  },
  {
   "cell_type": "markdown",
   "metadata": {},
   "source": [
    "### 소수 찾기\n",
    "\n",
    "> 조건, 반복문을 응용하여 numbers 리스트의 요소들이 소수인지 아닌지 판단하는 코드를 작성하라.\n",
    "\n",
    "```\n",
    "26 는 소수가 아닙니다. 2 는 26 의 인수입니다.\n",
    "39 는 소수가 아닙니다. 3 는 39 의 인수입니다.\n",
    "51 는 소수가 아닙니다. 3 는 51 의 인수입니다.\n",
    "53 는 소수입니다.\n",
    "57 는 소수가 아닙니다. 3 는 57 의 인수입니다.\n",
    "79 는 소수입니다.\n",
    "85 는 소수가 아닙니다. 5 는 85 의 인수입니다.\n",
    "```"
   ]
  },
  {
   "cell_type": "code",
   "execution_count": 21,
   "metadata": {},
   "outputs": [
    {
     "name": "stdout",
     "output_type": "stream",
     "text": [
      "26은(는) 소수가 아닙니다. 2는 26의 인수입니다.\n",
      "39은(는) 소수가 아닙니다. 3는 39의 인수입니다.\n",
      "51은(는) 소수가 아닙니다. 3는 51의 인수입니다.\n",
      "53은(는) 소수입니다.\n",
      "57은(는) 소수가 아닙니다. 3는 57의 인수입니다.\n",
      "79은(는) 소수입니다.\n",
      "85은(는) 소수가 아닙니다. 5는 85의 인수입니다.\n"
     ]
    }
   ],
   "source": [
    "numbers = [26, 39, 51, 53, 57, 79, 85]\n",
    "\n",
    "def sosu(l):\n",
    "    for num in l:\n",
    "        for i in range(2, num):\n",
    "            if num % i == 0:\n",
    "                print(f'{num}은(는) 소수가 아닙니다. {i}는 {num}의 인수입니다.')\n",
    "                break\n",
    "        else:\n",
    "            print(f'{num}은(는) 소수입니다.')\n",
    "            \n",
    "sosu(numbers)"
   ]
  },
  {
   "cell_type": "code",
   "execution_count": null,
   "metadata": {},
   "outputs": [],
   "source": [
    "numbers = [26, 39, 51, 53, 57, 79, 85]\n"
   ]
  },
  {
   "cell_type": "markdown",
   "metadata": {},
   "source": [
    "### 최대공약수, 최소공배수 구하기\n",
    "\n",
    "> 두 수를 입력받아 두 수의 최대공약수와 최소공배수를 반환하는 함수, gcdlcm을 완성해 보세요.\n",
    "\n",
    "> 배열의 맨 앞에 최대공약수, 그다음 최소공배수를 넣어 반환하면 됩니다.\n",
    "\n",
    "> 예를 들어 두 수 3, 12의 최대공약수는 3, 최소공배수는 12이므로 gcdlcm(3, 12)는 [3, 12]를 반환해야 합니다.\n",
    "\n",
    "예시)\n",
    "\n",
    "```python\n",
    "gcdlcm(3, 12) #=> [3, 12]\n",
    "gcdlcm(1071, 1029) #=> [21, 52479]\n",
    "```"
   ]
  },
  {
   "cell_type": "code",
   "execution_count": 23,
   "metadata": {},
   "outputs": [
    {
     "name": "stdout",
     "output_type": "stream",
     "text": [
      "[3, 12]\n",
      "[21, 52479]\n",
      "[3, 12]\n",
      "[21, 52479]\n"
     ]
    }
   ],
   "source": [
    "# 여기에 코드를 작성하세요.\n",
    "def gcdlcm(a,b):\n",
    "    for i in range(1,min(a,b)+1):\n",
    "        if a%i ==0 and b%i==0:\n",
    "            gcd=i\n",
    "    return [gcd, int(a*b/gcd)]\n",
    "        \n",
    "print(gcdlcm(3, 12))\n",
    "print(gcdlcm(1071, 1029))\n",
    "print(gcdlcm(3, 12))\n",
    "print(gcdlcm(1071, 1029))"
   ]
  },
  {
   "cell_type": "code",
   "execution_count": 37,
   "metadata": {},
   "outputs": [
    {
     "name": "stdout",
     "output_type": "stream",
     "text": [
      "[3, 12]\n",
      "[21, 52479]\n",
      "(3, 12)\n",
      "(21, 52479)\n"
     ]
    }
   ],
   "source": [
    "# 유클리드 호제법\n",
    "# GCD = Greatest Common Divisor\n",
    "# LCM = Least Common Multiple\n",
    "\n",
    "# GCD/LCM 구하기\n",
    "def gcdlcm(a, b):\n",
    "    # max, min을 할 필요 없음\n",
    "    # 어차피 작은 수를 큰 수로 나누면 나머지는 작은수\n",
    "    # m, n = max(a, b), min(a, b)\n",
    "    m, n = a, b\n",
    "    while n > 0:\n",
    "        m, n = n, m % n\n",
    "    return [m, int(a*b / m)]\n",
    "print(gcdlcm(3, 12))\n",
    "print(gcdlcm(1071, 1029))\n",
    "\n",
    "\n",
    "# 재귀함수로 GCD 구하기\n",
    "def gcd(n, m):\n",
    "    if n % m == 0:\n",
    "        return m\n",
    "    else:\n",
    "        return gcd(m, n%m)\n",
    "\n",
    "def gcdlcm2(n, m):\n",
    "    g = gcd(n, m)\n",
    "    l = n*m // g\n",
    "    return g, l\n",
    "\n",
    "print(gcdlcm2(3, 12))\n",
    "print(gcdlcm2(1071, 1029))"
   ]
  },
  {
   "cell_type": "code",
   "execution_count": null,
   "metadata": {},
   "outputs": [],
   "source": [
    "print(gcdlcm(3, 12))\n",
    "print(gcdlcm(1071, 1029))\n",
    "print(gcdlcm2(3, 12))\n",
    "print(gcdlcm2(1071, 1029))\n",
    "\n",
    "\"\"\"\n",
    "[3, 12]\n",
    "[21, 52479]\n",
    "[3, 12.0]\n",
    "[21, 52479.0]\n",
    "\"\"\""
   ]
  },
  {
   "cell_type": "markdown",
   "metadata": {},
   "source": [
    "### 과일 개수 골라내기\n",
    "\n",
    "> 장바구니에 아래와 같은 과일이 들어있고 과일 판별 리스트가 있습니다. 현재 장바구니에는 과일이 몇 개이고 과일이 아닌 것은 몇 개인지 출력 하시오.\n",
    "\n",
    "출력예시) 과일은 23개이고, 11개는 과일이 아닙니다."
   ]
  },
  {
   "cell_type": "code",
   "execution_count": 39,
   "metadata": {},
   "outputs": [
    {
     "data": {
      "text/plain": [
       "(23, 11)"
      ]
     },
     "execution_count": 39,
     "metadata": {},
     "output_type": "execute_result"
    }
   ],
   "source": [
    "basket_items = {'apples': 4, 'oranges': 19, 'kites': 3, 'sandwiches': 8}\n",
    "fruits = ['apples', 'oranges', 'pears', 'peaches', 'grapes', 'bananas']\n",
    "\n",
    "def fruits_checker(d):\n",
    "    cnt = 0\n",
    "    non_cnt = 0\n",
    "    for k, v in d.items():\n",
    "        if k in fruits:\n",
    "            cnt += v\n",
    "        else:\n",
    "            non_cnt += v\n",
    "    return cnt, non_cnt\n",
    "fruits_checker(basket_items)"
   ]
  },
  {
   "cell_type": "code",
   "execution_count": 46,
   "metadata": {},
   "outputs": [
    {
     "name": "stdout",
     "output_type": "stream",
     "text": [
      "23 11\n"
     ]
    }
   ],
   "source": [
    "basket_items = {'apples': 4, 'oranges': 19, 'kites': 3, 'sandwiches': 8}\n",
    "fruits = ['apples', 'oranges', 'pears', 'peaches', 'grapes', 'bananas']\n",
    "cnt = sum([v for k, v in basket_items.items() if k in fruits])\n",
    "print(cnt, sum(basket_items.values()) - cnt)"
   ]
  },
  {
   "cell_type": "markdown",
   "metadata": {},
   "source": [
    "### 절대값 함수 만들기\n",
    "\n",
    "#### `abs()`\n",
    "\n",
    "> 절대값은 숫자(int, float)가 들어오면 절대값을 반환하고, 복소수(complex)가 들어오면 그 크기를 반환합니다.\n",
    "> \n",
    "> `my_abs(x)`를 만들어보세요."
   ]
  },
  {
   "cell_type": "markdown",
   "metadata": {},
   "source": [
    "**공식문서**\n",
    "<center>\n",
    "    <img src=\"https://user-images.githubusercontent.com/52446416/61273106-b6ee5c00-a7e3-11e9-8ec2-a086b0bc584f.png\", alt=\"\">\n",
    "</center>"
   ]
  },
  {
   "cell_type": "markdown",
   "metadata": {},
   "source": [
    "**복소수 크기 구하는법**\n",
    "<center>\n",
    "    <img src=\"https://user-images.githubusercontent.com/52446416/61273105-b655c580-a7e3-11e9-9859-0a9ffdecdf7d.png\", alt=\"\">\n",
    "</center>"
   ]
  },
  {
   "cell_type": "code",
   "execution_count": 48,
   "metadata": {},
   "outputs": [
    {
     "name": "stdout",
     "output_type": "stream",
     "text": [
      "5.0 0.0 5\n"
     ]
    }
   ],
   "source": [
    "예제 입력 및 출력\n",
    "복소수 크기 : 복소 평면이라는 x축이 실수부, y축이 허수부인 그래프에서 3+4j라면 (3,4)인 지점의 벡터거리(원점으로부터 직선 거리)가 복소수의 크기\n",
    "\n",
    "# 방대승님\n",
    "def my_abs(x):\n",
    "    return (x.real**2+x.imag**2)**0.5\n",
    "\n",
    "# 오재석님\n",
    "def my_abs(x):\n",
    "    # conjugate는 켤레복소수를 제곱 제곱 -1 하여 반환\n",
    "    return (x * x.conjugate()).real**0.5\n",
    "\n",
    "갓동주님 명세서 따르기 코드\n",
    "def my_abs(x):\n",
    "    if type(x) == type(1j):\n",
    "        return (x.real**2+x.imag**2)**0.5\n",
    "    else:\n",
    "        if x == 0:\n",
    "            return x ** 2\n",
    "        elif x < 0:\n",
    "            return x * -1\n",
    "        else:\n",
    "            return x\n",
    "\n",
    "print(abs(3+4j), abs(-0.0), abs(-5))"
   ]
  },
  {
   "cell_type": "code",
   "execution_count": null,
   "metadata": {},
   "outputs": [],
   "source": [
    "abs(0)"
   ]
  },
  {
   "cell_type": "code",
   "execution_count": null,
   "metadata": {},
   "outputs": [],
   "source": [
    "# 아래에 코드를 작성해주세요.\n",
    "def my_abs(x):\n",
    "    pass\n",
    "\n",
    "# 예제 입력 및 출력\n",
    "print(my_abs(3+4j), my_abs(0.0), my_abs(-5))"
   ]
  },
  {
   "cell_type": "markdown",
   "metadata": {},
   "source": [
    "### 문자열 덧셈 하기\n",
    "#### 문자열 조작 및 반복/조건문 활용\n",
    "\n",
    "**문제 풀기 전에 어떻게 풀어야할지 생각부터 해봅시다!**\n",
    "\n",
    "> 사람은 덧셈을 할때 뒤에서부터 계산하고, 받아올림을 합니다.\n",
    "> \n",
    "> 문자열 2개를 받아 덧셈을 하여 숫자를 반환하는 함수 `my_sum(num1, num2)`을 만들어보세요.\n",
    "\n",
    "\n",
    "\n",
    "**절대로 `return int(num1)+int(num2)` 이렇게 풀지 맙시다!!**\n",
    "\n",
    "**재귀함수도 사용할 필요 없습니다.**"
   ]
  },
  {
   "cell_type": "code",
   "execution_count": 49,
   "metadata": {},
   "outputs": [],
   "source": [
    "def my_sum(num1, num2):\n",
    "    n1 = list(map(int, num1))\n",
    "    n2 = list(map(int, num2))\n",
    "    # 자리수 맞추기\n",
    "    while True:\n",
    "        if len(n1) > len(n2):\n",
    "            n2.insert(0, 0)\n",
    "        elif len(n1) < len(n2):\n",
    "            n1.insert(0, 0)\n",
    "        else:\n",
    "            break\n",
    "\n",
    "    # 뒤부터 더해서 올림받기\n",
    "    up = False\n",
    "    result = []\n",
    "    for i in range(1, len(n1)+1):\n",
    "        tmp = n1[-i] + n2[-i]\n",
    "        if up:\n",
    "            tmp += 1\n",
    "            up = False        \n",
    "\n",
    "        if tmp >= 10:\n",
    "            if i == len(n1):\n",
    "                result.append(f'{tmp}')\n",
    "                continue\n",
    "            up = True\n",
    "            result.append(f'{tmp-10}')\n",
    "        else:\n",
    "            result.append(f'{tmp}')\n",
    "    result.reverse()\n",
    "    return int(''.join(result))"
   ]
  },
  {
   "cell_type": "code",
   "execution_count": 50,
   "metadata": {},
   "outputs": [
    {
     "name": "stdout",
     "output_type": "stream",
     "text": [
      "8\n",
      "200\n",
      "10000\n"
     ]
    }
   ],
   "source": [
    "print(my_sum('3', '5'))\n",
    "print(my_sum('123', '77'))\n",
    "print(my_sum('1', '9999'))"
   ]
  },
  {
   "cell_type": "markdown",
   "metadata": {},
   "source": [
    "**비트 연산**\n",
    "\n",
    "1. AND연산(&)\n",
    "\n",
    "- 0b10101010 & 0b11000011\n",
    "\n",
    "- AND연산은 각 자릿수를 비교하여 둘다 1이면 1, 아니면 0\n",
    "\n",
    "---\n",
    "\n",
    "2. OR연산(|)\n",
    "\n",
    "0b10101010 | 0b11000011\n",
    "\n",
    "OR연산은 각 자릿수를 비교하여 둘 중 하나만 1이면 1\n",
    "\n",
    "---\n",
    "\n",
    "3. XOR연산(^)\n",
    "\n",
    "0b10101010 ^ 0b11000011\n",
    "\n",
    "XOR연산은 각 자릿수를 비교하여 다르면 1, 같으면 0\n",
    "\n",
    "---\n",
    "\n",
    "4. 쉬프트연산(<<, >>)\n",
    "\n",
    "0b10101010 << 2\n",
    "\n",
    "각 비트를 왼쪽으로 옮긴다.\n",
    "\n",
    "왼쪽 쉬프트 연산은 2를 곱하는 효과가 있다.\n",
    "\n",
    "(곱하기, 나누기 보다 쉬프트 연산이 빠르기 때문에 종종 사용됨)\n",
    "\n",
    "0b10101010 >> 2\n",
    "\n",
    "각 비트를 오른쪽으로 옮긴다. (오른쪽 부터 값이 버려짐)\n",
    "\n",
    "오른쪽 쉬프트 연산은 2로 나누는 효과가 있다."
   ]
  },
  {
   "cell_type": "code",
   "execution_count": null,
   "metadata": {},
   "outputs": [],
   "source": [
    "def addWithoutPlus(a, b):\n",
    "    pass"
   ]
  },
  {
   "cell_type": "code",
   "execution_count": null,
   "metadata": {},
   "outputs": [],
   "source": [
    "addWithoutPlus(1321, 5)"
   ]
  }
 ],
 "metadata": {
  "kernelspec": {
   "display_name": "Python 3",
   "language": "python",
   "name": "python3"
  },
  "language_info": {
   "codemirror_mode": {
    "name": "ipython",
    "version": 3
   },
   "file_extension": ".py",
   "mimetype": "text/x-python",
   "name": "python",
   "nbconvert_exporter": "python",
   "pygments_lexer": "ipython3",
   "version": "3.7.3"
  },
  "latex_envs": {
   "LaTeX_envs_menu_present": true,
   "autoclose": false,
   "autocomplete": true,
   "bibliofile": "biblio.bib",
   "cite_by": "apalike",
   "current_citInitial": 1,
   "eqLabelWithNumbers": true,
   "eqNumInitial": 1,
   "hotkeys": {
    "equation": "Ctrl-E",
    "itemize": "Ctrl-I"
   },
   "labels_anchors": false,
   "latex_user_defs": false,
   "report_style_numbering": false,
   "user_envs_cfg": false
  },
  "toc": {
   "base_numbering": 1,
   "nav_menu": {},
   "number_sections": true,
   "sideBar": true,
   "skip_h1_title": false,
   "title_cell": "Table of Contents",
   "title_sidebar": "Contents",
   "toc_cell": false,
   "toc_position": {},
   "toc_section_display": true,
   "toc_window_display": false
  }
 },
 "nbformat": 4,
 "nbformat_minor": 2
}
